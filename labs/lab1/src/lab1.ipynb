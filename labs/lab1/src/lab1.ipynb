{
 "cells": [
  {
   "cell_type": "markdown",
   "metadata": {},
   "source": [
    "# Problema 1: \n",
    "\n",
    "Un Scrum Master necesita asignar un conjunto de tareas a un equipo de desarrollo (pod) basado en la prioridad de las tareas y los puntos de historia asociados. El equipo consiste en 4 desarolladores, y la duración del sprint suele ser de 2 semanas. Por regla general cada desarollador no debe tener mas de 24 puntos de historia asociados a ellos mismos. Con base a esta información realiza un modelo de optimización que tome las tareas que se pueden realizar en este sprint teniendo en cuenta que queremos maximizar la cantidad de tareas realizadas con la mayor prioridad.\n",
    "\n",
    "Para efectos de este problema, debemos\n",
    "\n",
    " -\tDefinir las tareas disponibles y sus puntos de historia.\n",
    " -\tDefinir la prioridad de cada tarea.\n",
    " -\tImplementar un modelo de programación lineal para resolver el problema.\n",
    " -\tMaximizar la suma de las prioridades de las tareas completadas sin exceder la restricción de los puntos de historia.\n",
    "\n",
    "Las tareas son:\n",
    "\n",
    "|     # Tarea    |     Puntos de historia    |     Prioridad     |\n",
    "|----------------|---------------------------|-------------------|\n",
    "|     1          |     5                     |     Maxima        |\n",
    "|     2          |     3                     |     Media alta    |\n",
    "|     3          |     13                    |     Alta          |\n",
    "|     4          |     1                     |     Media baja    |\n",
    "|     5          |     21                    |     Minima        |\n",
    "|     6          |     2                     |     Media         |\n",
    "|     7          |     2                     |     Alta          |\n",
    "|     8          |     5                     |     Media         |\n",
    "|     9          |     8                     |     baja          |\n",
    "|     10         |     13                    |     Maxima        |\n",
    "|     12         |     21                    |     alta          |"
   ]
  },
  {
   "cell_type": "markdown",
   "metadata": {},
   "source": [
    "## Paso 1: Determinación de las restricciones\n",
    "\n",
    "Dado este sistema, vamos a asumir que podemos tomar los valores numéricos pensados en este \n",
    "\n",
    "$$\n",
    "\n",
    "Desarrolladores = 4\\\\\n",
    "\n",
    "puntos\\_ equipo \\leq 24 \\cdot Desarrolladores\n",
    "\n",
    "\n",
    "$$\n",
    "\n",
    "Este problema es muy parecido al problema de la mochila (knapsack problem) al hacerse de forma tradicional, sin embargo, el uso de modelado hace que sea mucho mas intuitivamente, la funcion objetivo se va a ver de la siguiente forma:\n",
    "\n",
    "$$ F_o = max(\\sum_{i = 0}^{n} x_i \\cdot p_i ; i \\in \\mathbb{Z})\\\\\n",
    "    F_o \\leq puntos\\_ equipo\n",
    "$$\n",
    "\n",
    "Se van a asignar los siguientes valores numéricos a la "
   ]
  },
  {
   "cell_type": "code",
   "execution_count": null,
   "metadata": {},
   "outputs": [],
   "source": []
  },
  {
   "cell_type": "code",
   "execution_count": null,
   "metadata": {},
   "outputs": [],
   "source": [
    "## Solución propuesta por Elkin.\n",
    "\n",
    "from __future__ import division\n",
    "from pyomo.environ import *\n",
    "\n",
    "from pyomo.opt import SolverFactory\n",
    "\n",
    "Model = ConcreteModel(name='lab1_p1')\n",
    "\n",
    "# Data de entrada\n",
    "numTareas=11\n",
    "num_desarrolladores = 4\n",
    "\n",
    "p=RangeSet(1, 11)\n",
    "\n",
    "prioridad={1:7, 2:5, 3:6, 4:3, 5:1, 6:4, 7:6, 8:4, 9:2, 10:7, 11:6}\n",
    "p_historia={1:5, 2:3, 3:13, 4:1, 5:21, 6:2, 7:2, 8:5, 9:8, 10:13, 11:21}\n",
    "\n",
    "# Variable de decisión                          \n",
    "Model.x = Var(p, domain=Binary)\n",
    "\n",
    "# Función objetivo\n",
    "Model.obj = Objective(expr = sum(Model.x[i]*prioridad[i] for i in p), sense=maximize)\n",
    "\n",
    "# Restricciones\n",
    "Model.res1 = Constraint(expr = sum(Model.x[i]*p_historia[i] for i in p) <= 24*num_desarrolladores)\n",
    "\n",
    "# Especificación del solver\n",
    "SolverFactory('glpk').solve(Model)\n",
    "\n",
    "Model.display()"
   ]
  }
 ],
 "metadata": {
  "language_info": {
   "name": "python"
  }
 },
 "nbformat": 4,
 "nbformat_minor": 2
}
