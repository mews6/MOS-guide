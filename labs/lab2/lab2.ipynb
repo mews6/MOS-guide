{
 "cells": [
  {
   "cell_type": "markdown",
   "metadata": {},
   "source": [
    "# Laboratorio 2\n",
    "\n",
    "- Jaime Andres Torres Bermejo - 202014866\n",
    "- Elkin Rafael Cuello - 202215037\n",
    "\n",
    "## Problema 1: Redes de Transporte\n",
    "\n",
    "La temporada navideña es uno de los periodos de mayor actividad\n",
    "comercial en Colombia. Durante este tiempo, la demanda de productos como juguetes,\n",
    "ropa, electrodomésticos, y alimentos tradicionales aumenta considerablemente en\n",
    "diversas regiones del país. Dos de las principales ciudades distribuidoras, Bogotá y\n",
    "Medellín, se preparan para abastecer a otras ciudades importantes como Cali,\n",
    "Barranquilla, Pasto, Tunja, Chia y Manizales.\n",
    "Cada ciudad de destino tiene una demanda específica de productos para satisfacer las\n",
    "necesidades de sus habitantes durante la temporada. Mientras, Bogotá y Medellín\n",
    "tienen una oferta limitada de productos por las restricciones en la cadena de suministro.\n",
    "La eficiencia en la distribución es crucial para garantizar que todos los productos lleguen\n",
    "a tiempo y se minimicen los costos de transporte.\n",
    "\n",
    "### Entregables\n",
    "\n",
    "- Plantee el modelo matematico del problema, Defina:\n",
    "    - Conjuntos\n",
    "    - Parámetros\n",
    "    - Variable de Decisión\n",
    "    - Función Objetivo\n",
    "    - Restricciones\n",
    "- Realize una implementación en PYOMO o en el software de su gusto\n",
    "- Realize un análisis de Sensibilidad de las cuidades de destino y las cuidades de\n",
    "origen.\n",
    "- Mueva 50 toneladas de oferta de medellin a bogota y repita el analisis de\n",
    "sensibilidad. ¿Que ha cambiado? Recomendaría este cambio or que otro cambio\n",
    "puede proponer?"
   ]
  },
  {
   "cell_type": "markdown",
   "metadata": {},
   "source": []
  },
  {
   "cell_type": "code",
   "execution_count": null,
   "metadata": {},
   "outputs": [],
   "source": [
    "from pyomo.environ import *\n",
    "from pyomo.network import *\n"
   ]
  }
 ],
 "metadata": {
  "kernelspec": {
   "display_name": "Python 3",
   "language": "python",
   "name": "python3"
  },
  "language_info": {
   "name": "python",
   "version": "3.11.9"
  }
 },
 "nbformat": 4,
 "nbformat_minor": 2
}
