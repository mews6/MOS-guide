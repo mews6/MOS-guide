{
 "cells": [
  {
   "cell_type": "markdown",
   "metadata": {},
   "source": [
    "# Laboratorio 2\n",
    "\n",
    "- Jaime Andres Torres Bermejo - 202014866\n",
    "- Elkin Rafael Cuello - 202215037\n",
    "\n",
    "## Problema 1: Redes de Transporte\n",
    "\n",
    "La temporada navideña es uno de los periodos de mayor actividad\n",
    "comercial en Colombia. Durante este tiempo, la demanda de productos como juguetes,\n",
    "ropa, electrodomésticos, y alimentos tradicionales aumenta considerablemente en\n",
    "diversas regiones del país. Dos de las principales ciudades distribuidoras, Bogotá y\n",
    "Medellín, se preparan para abastecer a otras ciudades importantes como Cali,\n",
    "Barranquilla, Pasto, Tunja, Chia y Manizales.\n",
    "Cada ciudad de destino tiene una demanda específica de productos para satisfacer las\n",
    "necesidades de sus habitantes durante la temporada. Mientras, Bogotá y Medellín\n",
    "tienen una oferta limitada de productos por las restricciones en la cadena de suministro.\n",
    "La eficiencia en la distribución es crucial para garantizar que todos los productos lleguen\n",
    "a tiempo y se minimicen los costos de transporte.\n",
    "\n",
    "### Entregables\n",
    "\n",
    "- Plantee el modelo matematico del problema, Defina:\n",
    "    - Conjuntos\n",
    "    - Parámetros\n",
    "    - Variable de Decisión\n",
    "    - Función Objetivo\n",
    "    - Restricciones\n",
    "- Realize una implementación en PYOMO o en el software de su gusto\n",
    "- Realize un análisis de Sensibilidad de las cuidades de destino y las cuidades de\n",
    "origen.\n",
    "- Mueva 50 toneladas de oferta de medellin a bogota y repita el analisis de\n",
    "sensibilidad. ¿Que ha cambiado? Recomendaría este cambio or que otro cambio\n",
    "puede proponer?"
   ]
  },
  {
   "cell_type": "markdown",
   "metadata": {},
   "source": []
  },
  {
   "cell_type": "code",
   "execution_count": 24,
   "metadata": {},
   "outputs": [
    {
     "name": "stdout",
     "output_type": "stream",
     "text": [
      "Model unknown\n",
      "\n",
      "  Variables:\n",
      "    x : Size=12, Index={Bogota, Medellin}*{Cali, Barranquilla, Pasto, Tunja, Chia, Manizales}\n",
      "        Key                          : Lower : Value : Upper : Fixed : Stale : Domain\n",
      "          ('Bogota', 'Barranquilla') :     0 : 175.0 :  None : False : False : NonNegativeReals\n",
      "                  ('Bogota', 'Cali') :     0 :   0.0 :  None : False : False : NonNegativeReals\n",
      "                  ('Bogota', 'Chia') :     0 : 150.0 :  None : False : False : NonNegativeReals\n",
      "             ('Bogota', 'Manizales') :     0 :   0.0 :  None : False : False : NonNegativeReals\n",
      "                 ('Bogota', 'Pasto') :     0 : 225.0 :  None : False : False : NonNegativeReals\n",
      "                 ('Bogota', 'Tunja') :     0 :   0.0 :  None : False : False : NonNegativeReals\n",
      "        ('Medellin', 'Barranquilla') :     0 :   0.0 :  None : False : False : NonNegativeReals\n",
      "                ('Medellin', 'Cali') :     0 : 125.0 :  None : False : False : NonNegativeReals\n",
      "                ('Medellin', 'Chia') :     0 :  75.0 :  None : False : False : NonNegativeReals\n",
      "           ('Medellin', 'Manizales') :     0 : 200.0 :  None : False : False : NonNegativeReals\n",
      "               ('Medellin', 'Pasto') :     0 :   0.0 :  None : False : False : NonNegativeReals\n",
      "               ('Medellin', 'Tunja') :     0 : 250.0 :  None : False : False : NonNegativeReals\n",
      "\n",
      "  Objectives:\n",
      "    objetivo : Size=1, Index=None, Active=True\n",
      "        Key  : Active : Value\n",
      "        None :   True : 1715.0\n",
      "\n",
      "  Constraints:\n",
      "    oferta : Size=2\n",
      "        Key      : Lower : Body  : Upper\n",
      "          Bogota :  None : 550.0 : 550.0\n",
      "        Medellin :  None : 650.0 : 700.0\n",
      "    demanda : Size=6\n",
      "        Key          : Lower : Body  : Upper\n",
      "        Barranquilla : 175.0 : 175.0 : 175.0\n",
      "                Cali : 125.0 : 125.0 : 125.0\n",
      "                Chia : 225.0 : 225.0 : 225.0\n",
      "           Manizales : 200.0 : 200.0 : 200.0\n",
      "               Pasto : 225.0 : 225.0 : 225.0\n",
      "               Tunja : 250.0 : 250.0 : 250.0\n"
     ]
    }
   ],
   "source": [
    "from pyomo.environ import *\n",
    "import math\n",
    "import numpy as np\n",
    "\n",
    "\n",
    "# Modelo\n",
    "model = ConcreteModel()\n",
    "\n",
    "# Conjuntos\n",
    "origenes = ['Bogota', 'Medellin']\n",
    "destinos = ['Cali', 'Barranquilla', 'Pasto', 'Tunja', 'Chia', 'Manizales']\n",
    "costos = {\n",
    "    ('Bogota', 'Cali'): 100, ('Medellin', 'Cali'): 2.5,\n",
    "    ('Bogota', 'Barranquilla'): 2.5, ('Medellin', 'Barranquilla'): 100,\n",
    "    ('Bogota', 'Pasto'): 1.6, ('Medellin', 'Pasto'): 2.0,\n",
    "    ('Bogota', 'Tunja'): 1.4, ('Medellin', 'Tunja'): 1.0,\n",
    "    ('Bogota', 'Chia'): 0.8, ('Medellin', 'Chia'): 1.0,\n",
    "    ('Bogota', 'Manizales'): 1.4, ('Medellin', 'Manizales'): 0.8\n",
    "}\n",
    "demandas = {'Cali': 125, 'Barranquilla': 175, 'Pasto': 225, 'Tunja': 250, 'Chia': 225, 'Manizales': 200}\n",
    "ofertas = {'Bogota': 550, 'Medellin': 700}\n",
    "\n",
    "# Variables\n",
    "model.x = Var(origenes, destinos, within=NonNegativeReals)\n",
    "\n",
    "# Función objetivo: minimizar los costos de transporte\n",
    "def objetivo(model):\n",
    "    return sum(model.x[i, j] * costos[i, j] for i in origenes for j in destinos)\n",
    "model.objetivo = Objective(rule=objetivo, sense=minimize)\n",
    "\n",
    "# Restricción de oferta: no exceder la cantidad disponible en cada origen\n",
    "def oferta_rule(model, i):\n",
    "    return sum(model.x[i, j] for j in destinos) <= ofertas[i]\n",
    "model.oferta = Constraint(origenes, rule=oferta_rule)\n",
    "\n",
    "# Restricción de demanda: satisfacer la demanda en cada destino\n",
    "def demanda_rule(model, j):\n",
    "    return sum(model.x[i, j] for i in origenes) == demandas[j]\n",
    "model.demanda = Constraint(destinos, rule=demanda_rule)\n",
    "\n",
    "# Resolver el modelo\n",
    "solver = SolverFactory('glpk')\n",
    "solver.solve(model)\n",
    "\n",
    "model.display()"
   ]
  },
  {
   "cell_type": "markdown",
   "metadata": {},
   "source": [
    "## Analisis de sensibilidad"
   ]
  },
  {
   "cell_type": "code",
   "execution_count": 25,
   "metadata": {},
   "outputs": [],
   "source": [
    "# Cargar duales\n",
    "model.dual = Suffix(direction=Suffix.IMPORT)\n",
    "\n",
    "# Resolver el modelo\n",
    "resultado = solver.solve(model)"
   ]
  },
  {
   "cell_type": "code",
   "execution_count": 26,
   "metadata": {},
   "outputs": [
    {
     "name": "stdout",
     "output_type": "stream",
     "text": [
      "\n",
      "Analisis de sensibilidad\n",
      "Dual de la restricción de demanda en Cali: 2.5\n",
      "Dual de la restricción de demanda en Barranquilla: 2.7\n",
      "Dual de la restricción de demanda en Pasto: 1.8\n",
      "Dual de la restricción de demanda en Tunja: 1.0\n",
      "Dual de la restricción de demanda en Chia: 1.0\n",
      "Dual de la restricción de demanda en Manizales: 0.8\n",
      "Dual de la restricción de oferta en Bogota: -0.2\n",
      "Dual de la restricción de oferta en Medellin: 0.0\n"
     ]
    }
   ],
   "source": [
    "# Mostrar resultados:\n",
    "print(\"\\nAnalisis de sensibilidad\")\n",
    "\n",
    "for i in destinos:\n",
    "    print(f\"Dual de la restricción de demanda en {i}: {model.dual[model.demanda[i]]}\")\n",
    "\n",
    "for j in origenes:  # Asumo que quieres iterar solo una vez\n",
    "    print(f\"Dual de la restricción de oferta en {j}: {model.dual[model.oferta[j]]}\")"
   ]
  },
  {
   "cell_type": "markdown",
   "metadata": {},
   "source": [
    "Se modifican los parametros"
   ]
  },
  {
   "cell_type": "code",
   "execution_count": 27,
   "metadata": {},
   "outputs": [],
   "source": [
    "ofertas['Bogota'] = ofertas['Bogota'] + 500\n",
    "ofertas['Medellin'] = ofertas['Medellin'] - 500"
   ]
  },
  {
   "cell_type": "code",
   "execution_count": 28,
   "metadata": {},
   "outputs": [],
   "source": [
    "resultado = solver.solve(model)"
   ]
  },
  {
   "cell_type": "code",
   "execution_count": 29,
   "metadata": {},
   "outputs": [
    {
     "name": "stdout",
     "output_type": "stream",
     "text": [
      "\n",
      "Analisis de sensibilidad\n",
      "Dual de la restricción de demanda en Cali: 2.5\n",
      "Dual de la restricción de demanda en Barranquilla: 2.7\n",
      "Dual de la restricción de demanda en Pasto: 1.8\n",
      "Dual de la restricción de demanda en Tunja: 1.0\n",
      "Dual de la restricción de demanda en Chia: 1.0\n",
      "Dual de la restricción de demanda en Manizales: 0.8\n",
      "Dual de la restricción de oferta en Bogota: -0.2\n",
      "Dual de la restricción de oferta en Medellin: 0.0\n"
     ]
    }
   ],
   "source": [
    "# Mostrar resultados:\n",
    "print(\"\\nAnalisis de sensibilidad\")\n",
    "\n",
    "for i in destinos:\n",
    "    print(f\"Dual de la restricción de demanda en {i}: {model.dual[model.demanda[i]]}\")\n",
    "\n",
    "for j in origenes:  # Asumo que quieres iterar solo una vez\n",
    "    print(f\"Dual de la restricción de oferta en {j}: {model.dual[model.oferta[j]]}\")"
   ]
  }
 ],
 "metadata": {
  "kernelspec": {
   "display_name": "Python 3",
   "language": "python",
   "name": "python3"
  },
  "language_info": {
   "codemirror_mode": {
    "name": "ipython",
    "version": 3
   },
   "file_extension": ".py",
   "mimetype": "text/x-python",
   "name": "python",
   "nbconvert_exporter": "python",
   "pygments_lexer": "ipython3",
   "version": "3.12.3"
  }
 },
 "nbformat": 4,
 "nbformat_minor": 2
}
