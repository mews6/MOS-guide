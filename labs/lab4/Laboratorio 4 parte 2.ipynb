{
  "cells": [
    {
      "cell_type": "markdown",
      "metadata": {
        "id": "X9qoTHjP6H_x"
      },
      "source": [
        "# Lab 4: Parte 2 - Optimización multiobjetivo en problemas no lineales"
      ]
    },
    {
      "cell_type": "markdown",
      "metadata": {},
      "source": [
        "- Jaime Andres Torres Bermejo - 202014866\n",
        "- Elkin Rafael Cuello - 202215037"
      ]
    },
    {
      "cell_type": "code",
      "execution_count": 1,
      "metadata": {
        "id": "KZV3id4s6H_z"
      },
      "outputs": [],
      "source": [
        "import matplotlib.pyplot as plt\n",
        "import math\n",
        "from pyomo.environ import *\n",
        "from pyomo.opt import SolverFactory\n",
        "solver = SolverFactory('ipopt')\n",
        "import pandas as pd\n",
        "import numpy as np"
      ]
    },
    {
      "cell_type": "markdown",
      "metadata": {
        "id": "Y91_Cr9x6H_2"
      },
      "source": [
        "## Pregunta 1: Beneficio vs Unidades Vendidas\n",
        "\n",
        "Una startup necesita aumentar las ventas de un producto a través de publicidad. Si la empresa gasta $a$ (medido en miles de dólares) en publicidad y cobra un precio de $p=10+0.38a$ dólares por unidad, entonces puede vender $1000-10p+20\\sqrt{a}$ unidades del producto. El costo de producción por unidad del producto es $6$. Ayuda a la empresa a encontrar al menos 10 soluciones de Pareto óptimas y traza la frontera de Pareto entre los objetivos de maximizar el beneficio y maximizar el número de unidades vendidas."
      ]
    },
    {
      "cell_type": "markdown",
      "metadata": {
        "id": "88Hel1jc6H_2"
      },
      "source": [
        "### Parte I: Formulación del modelo matemático\n",
        "\n",
        "Formula el problema matemático listando:\n",
        "- Variables de decisión\n",
        "- Función objetivo\n",
        "- Restricciones"
      ]
    },
    {
      "cell_type": "markdown",
      "metadata": {
        "id": "B72iQtnY6H_3"
      },
      "source": [
        "1. Variables de Decisión  \n",
        "  - $ a = $ inversión en publicidad (miles de dólares)\n",
        "\n",
        "2. Función Objetivo  \n",
        "  - $Max :\\ ventas\\ unitarias(a) = f_1(a) $  \n",
        "    - $ventas\\ unitarias(a) = 1000-10p+20\\sqrt{a}$  \n",
        "    - Sustituyendo:  \n",
        "      - $ ventas\\ unitarias(a) = 1000-10(10+0.38a)+20\\sqrt{a} $  \n",
        "      - $ ventas\\ unitarias(a) = 890-3.8a+20\\sqrt{a} $  \n",
        "    - $ Max :\\ ventas\\ unitarias(a) = f_1(a) = 890-3.8a+20\\sqrt{a} $\n",
        "    \n",
        "  - $Max :\\ beneficio(a) = f_2(a) $  \n",
        "    - $ beneficio = ventas\\ unitarias * margen - inversión$\n",
        "    - $ beneficio = ventas\\ unitarias * (precio - 6) - a $\n",
        "    - Sustituyendo:  \n",
        "      - $ beneficio(a) = ventas\\ unitarias * ((10+0.38a) - 6) - a $\n",
        "      - $ beneficio(a) = (890-3.8a+20\\sqrt{a}) * (4+0.38a) - a $\n",
        "    - $Max :\\ beneficio(a) = f_2(a) = -1.444a^2 + 7.6\\sqrt{a}*a + 80\\sqrt{a} + 322a +3560 $\n",
        "\n",
        "3. Restricciones  \n",
        "  - $ a > 0 $"
      ]
    },
    {
      "cell_type": "code",
      "execution_count": 2,
      "metadata": {
        "id": "s4Ee0CHCZwj_"
      },
      "outputs": [],
      "source": [
        "\n",
        "solver = SolverFactory('ipopt')\n",
        "\n",
        "def construir_modelo():\n",
        "    modelo = ConcreteModel()\n",
        "    \n",
        "    modelo.inversion_publicitaria = Var(bounds=(1e-6, None), initialize=1, within=NonNegativeReals)\n",
        "    \n",
        "    modelo.ventas = Expression(expr=890 - 3.8 * modelo.inversion_publicitaria + 20 * sqrt(modelo.inversion_publicitaria))\n",
        "    \n",
        "    modelo.rentabilidad = Expression(\n",
        "        expr=-1.444 * (modelo.inversion_publicitaria ** 2) + \n",
        "        7.6 * modelo.inversion_publicitaria * sqrt(modelo.inversion_publicitaria) +\n",
        "        80 * sqrt(modelo.inversion_publicitaria) + 322 * modelo.inversion_publicitaria + 3560\n",
        "    )\n",
        "    \n",
        "    return modelo"
      ]
    },
    {
      "cell_type": "markdown",
      "metadata": {
        "id": "vUEa1CQd6H_3"
      },
      "source": [
        "### Parte II: Hayar los extremos de Pareto\n",
        "\n",
        "Encontrar tanto la venta máxima como la ganancia máxima de unidades vendidas.\n",
        "\n",
        "> Puedes usar `model.res1.deactivate()` para desactivar la restricción para esto\n"
      ]
    },
    {
      "cell_type": "code",
      "execution_count": null,
      "metadata": {},
      "outputs": [],
      "source": [
        "def optimizar_rentabilidad():\n",
        "    modelo = construir_modelo()\n",
        "    modelo.objetivo_rentabilidad = Objective(expr=modelo.rentabilidad, sense=maximize)\n",
        "    solucion = solver.solve(modelo)\n",
        "    \n",
        "    if (solucion.solver.status == SolverStatus.ok) and (solucion.solver.termination_condition == TerminationCondition.optimal):\n",
        "        rentabilidad_max = modelo.rentabilidad()\n",
        "        publicidad_optima = modelo.inversion_publicitaria()\n",
        "        ventas_optimas = modelo.ventas()\n",
        "        return rentabilidad_max, publicidad_optima, ventas_optimas\n",
        "    else:\n",
        "        raise ValueError('No se pudo obtener una solución óptima para maximizar la rentabilidad.')\n",
        "\n",
        "def optimizar_ventas():\n",
        "    modelo = construir_modelo()\n",
        "    modelo.objetivo_ventas = Objective(expr=modelo.ventas, sense=maximize)\n",
        "    solucion = solver.solve(modelo)\n",
        "    \n",
        "    if (solucion.solver.status == SolverStatus.ok) and (solucion.solver.termination_condition == TerminationCondition.optimal):\n",
        "        ventas_max = modelo.ventas()\n",
        "        publicidad_optima = modelo.inversion_publicitaria()\n",
        "        rentabilidad_optima = modelo.rentabilidad()\n",
        "        return ventas_max, publicidad_optima, rentabilidad_optima\n",
        "    else:\n",
        "        raise ValueError('No se encontró una solución óptima para maximizar las ventas.')\n",
        "\n",
        "try:\n",
        "    rentabilidad_max, publicidad_rentabilidad, ventas_rentabilidad = optimizar_rentabilidad()\n",
        "    print(f'Rentabilidad máxima: {rentabilidad_max}, Ventas: {ventas_rentabilidad}, Inversión publicitaria: {publicidad_rentabilidad}')\n",
        "    \n",
        "    ventas_max, publicidad_ventas, rentabilidad_ventas = optimizar_ventas()\n",
        "    print(f'Ventas máximas: {ventas_max}, Rentabilidad: {rentabilidad_ventas}, Inversión publicitaria: {publicidad_ventas}')\n",
        "\n",
        "except ValueError as e:\n",
        "    print(e)"
      ]
    },
    {
      "cell_type": "markdown",
      "metadata": {
        "id": "HA2hXkl66H_4"
      },
      "source": [
        "### Parte III: Graficar la frontera de Pareto\n",
        "\n",
        "Encuentra al menos 10 puntos de Pareto-óptimos y traza la frontera de Pareto entre los objetivos de maximizar el beneficio y maximizar el número de unidades vendidas."
      ]
    },
    {
      "cell_type": "markdown",
      "metadata": {},
      "source": [
        "Implementen el método de **$\\epsilon$-constraint** para encontrar el **frente óptimo de Pareto** en un problema de optimización multiobjetivo. La idea detrás de este método es optimizar un objetivo principal mientras se aplica una restricción sobre el otro objetivo, permitiendo obtener soluciones óptimas que representen diferentes compromisos entre ambos objetivos (en este caso, maximizar el **beneficio** y maximizar las **ventas unitarias**).\n",
        "\n",
        "### Explicación del Método $\\epsilon$-Constraint\n",
        "\n",
        "1. **Definición del Problema**:  \n",
        "   El problema tiene dos objetivos conflictivos:\n",
        "   - **Maximizar el beneficio** ($f_2(a)$).\n",
        "   - **Maximizar las ventas unitarias** ($f_1(a)$).\n",
        "   \n",
        "   Como estos objetivos están en conflicto (aumentar el beneficio podría reducir las ventas y viceversa), necesitamos encontrar un conjunto de soluciones óptimas donde no se puede mejorar un objetivo sin empeorar el otro, es decir, el **frente de Pareto**.\n",
        "\n",
        "2. **¿Qué es el método $\\epsilon$-Constraint?**:  \n",
        "   El método $\\epsilon$-constraint optimiza uno de los objetivos (por ejemplo, el beneficio) mientras que el otro objetivo se convierte en una restricción limitada por un valor $\\epsilon$.\n",
        "   \n",
        "   En el código, lo que se hace es:\n",
        "   - Primero, se **maximiza el beneficio** bajo una restricción que lo limita a un porcentaje de su valor máximo posible.\n",
        "   - Luego, se optimiza la función de **ventas unitarias** asegurando que el beneficio no disminuya por debajo del valor encontrado en la primera etapa.\n",
        "\n",
        "3. **Cómo se calculan los valores $\\epsilon$ (fronteras)**:  \n",
        "   Los valores $\\epsilon$ en este caso se calculan como un porcentaje de la diferencia entre el **valor máximo** y el **valor mínimo** del beneficio. Este valor $\\epsilon$ establece el límite superior para el beneficio en cada iteración. Así es como se asegura que el beneficio no supere un porcentaje del beneficio máximo posible, permitiendo así maximizar las ventas unitarias bajo ese límite.\n",
        "\n",
        "   La fórmula para establecer este límite es:\n",
        "   $$\n",
        "   \\text{profit\\_limit} = \\text{profit\\_max} - (\\text{profit\\_max} - \\text{profit\\_min}) \\times w1\n",
        "   $$\n",
        "   Donde:\n",
        "   - **profit\\_max** es el valor máximo del beneficio.\n",
        "   - **profit\\_min** es el valor mínimo del beneficio.\n",
        "   - **w1** es un peso que varía entre 0 y 1\n",
        "4. **Iteración para encontrar soluciones de Pareto**:  \n",
        "   El código genera múltiples soluciones cambiando el valor de **w1** en el rango de 0 a 1. Esto permite explorar diferentes compromisos entre el beneficio y las ventas unitarias:\n",
        "   - Cuando **w1 = 0**, se permite el beneficio máximo posible.\n",
        "   - Cuando **w1 = 1**, se reduce el beneficio al mínimo y se maximizan las ventas.\n",
        "   \n",
        "   Cada vez que el valor de **w1** cambia, el modelo se resuelve nuevamente para encontrar un nuevo compromiso óptimo entre beneficio y ventas, generando así una solución del frente de Pareto."
      ]
    },
    {
      "cell_type": "code",
      "execution_count": null,
      "metadata": {},
      "outputs": [],
      "source": [
        "def frontera_pareto(rentabilidad_max, rentabilidad_min, pesos_w1):\n",
        "    lista_rentabilidad = []\n",
        "    lista_ventas = []\n",
        "    \n",
        "    for w1 in pesos_w1:\n",
        "        umbral_rentabilidad = rentabilidad_max - (rentabilidad_max - rentabilidad_min) * w1\n",
        "        modelo = construir_modelo()\n",
        "        \n",
        "        modelo.objetivo_ventas = Objective(expr=modelo.ventas, sense=maximize)\n",
        "        \n",
        "        modelo.restriccion_rentabilidad = Constraint(expr=modelo.rentabilidad >= umbral_rentabilidad)\n",
        "        \n",
        "        solucion = solver.solve(modelo)\n",
        "        \n",
        "        if (solucion.solver.status == SolverStatus.ok) and (solucion.solver.termination_condition == TerminationCondition.optimal):\n",
        "            lista_rentabilidad.append(modelo.rentabilidad())\n",
        "            lista_ventas.append(modelo.ventas())\n",
        "        else:\n",
        "            print(f'No se encontró una solución óptima para w1 = {w1}')\n",
        "            lista_rentabilidad.append(None)\n",
        "            lista_ventas.append(None)\n",
        "    \n",
        "    lista_rentabilidad = [r for r in lista_rentabilidad if r is not None]\n",
        "    lista_ventas = [v for v in lista_ventas if v is not None]\n",
        "    \n",
        "    return lista_rentabilidad, lista_ventas\n",
        "\n",
        "def dibujar_frontera_pareto(lista_rentabilidad, lista_ventas):\n",
        "    plt.figure(figsize=(10,6))\n",
        "    plt.plot(lista_rentabilidad, lista_ventas, 'o-', color='darkorange', linewidth=2, markerfacecolor='blue', markeredgewidth=2, markeredgecolor='black', label='Soluciones')\n",
        "    plt.xlabel('Rentabilidad', fontsize=12, fontweight='bold')\n",
        "    plt.ylabel('Ventas', fontsize=12, fontweight='bold')\n",
        "    plt.title('Frontera de Pareto: Rentabilidad vs Ventas', fontsize=14, fontweight='bold')\n",
        "    plt.grid(True, linestyle='--', linewidth=0.7, color='gray', alpha=0.7)\n",
        "    plt.legend(loc='best', fontsize=12)\n",
        "    plt.show()\n",
        "\n",
        "pesos_w1 = np.linspace(0, 1, 10)\n",
        "lista_rentabilidad, lista_ventas = frontera_pareto(rentabilidad_max, rentabilidad_ventas, pesos_w1)\n",
        "\n",
        "dibujar_frontera_pareto(lista_rentabilidad, lista_ventas)"
      ]
    },
    {
      "cell_type": "markdown",
      "metadata": {
        "id": "GW1hBSeS6H_4"
      },
      "source": [
        "### Parte (d): Discusión\n",
        "\n",
        "Supongamos que la empresa startup ahora decide que, aunque ambos objetivos son importantes, maximizar el número de unidades vendidas es más importante que maximizar el beneficio. ¿Qué sugerencias le darías a la empresa basándote en tus resultados de las partes (b) y (c)?"
      ]
    },
    {
      "cell_type": "markdown",
      "metadata": {},
      "source": [
        "#### **Respuesta:**"
      ]
    },
    {
      "cell_type": "markdown",
      "metadata": {},
      "source": [
        "Basándome en los resultados obtenidos en las partes (b) y (c), si la empresa valora más maximizar el número de unidades vendidas, le sugeriría enfocarse en soluciones donde el objetivo de ventas se priorice en la frontera de Pareto. Específicamente, podría elegir estrategias de inversión publicitaria que se encuentren en el extremo de la curva de Pareto donde las ventas son mayores, aceptando un posible sacrificio en la rentabilidad. Sin embargo, es importante que la empresa evalúe cuidadosamente hasta qué punto puede reducir la rentabilidad sin comprometer su sostenibilidad a largo plazo, de forma que encuentre un equilibrio."
      ]
    }
  ],
  "metadata": {
    "colab": {
      "collapsed_sections": [],
      "name": "Problem Set 2.ipynb",
      "provenance": []
    },
    "kernelspec": {
      "display_name": "base",
      "language": "python",
      "name": "python3"
    },
    "language_info": {
      "codemirror_mode": {
        "name": "ipython",
        "version": 3
      },
      "file_extension": ".py",
      "mimetype": "text/x-python",
      "name": "python",
      "nbconvert_exporter": "python",
      "pygments_lexer": "ipython3",
      "version": "3.12.3"
    }
  },
  "nbformat": 4,
  "nbformat_minor": 0
}
