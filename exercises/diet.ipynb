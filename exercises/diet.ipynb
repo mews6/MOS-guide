{
 "cells": [
  {
   "cell_type": "markdown",
   "metadata": {},
   "source": []
  },
  {
   "cell_type": "code",
   "execution_count": 1,
   "metadata": {},
   "outputs": [],
   "source": [
    "from __future__ import division\n",
    "from pyomo.environ import *\n",
    "\n",
    "from pyomo.opt import SolverFactory\n",
    "\n",
    "'''\n",
    "# Definicion variables alimento\n",
    "\n",
    "c = carne\n",
    "a = arroz\n",
    "l = leche\n",
    "p = pan\n",
    "'''\n",
    "\n",
    "Model = ConcreteModel(name='dieta')\n",
    "\n",
    "alimentos = [\"c\",\"a\",\"l\",\"p\"]\n",
    "\n",
    "calorias = {\"c\":287,\"a\":204,\"l\":146,\"p\":245}\n",
    "proteinas = {\"c\":26,\"a\":4.2,\"l\":8,\"p\":6}\n",
    "azucar = {\"c\":0,\"a\":0.01,\"l\":13,\"p\":25}\n",
    "carbohidratos = {\"c\":0,\"a\":44.1,\"l\":11,\"p\":55}\n",
    "precio = {\"c\":3000,\"a\":1000,\"l\":600,\"p\":700}\n",
    "\n",
    "# Variable de Restriccion\n",
    "Model.x = Var(alimentos, domain=RealSet)\n",
    "\n",
    "# Funcion objetivo\n",
    "\n",
    "Model.obj = Objective(expr = (sum(precio[j]) for j in alimentos), sense=minimize)\n",
    "\n",
    "# Restricciones\n",
    "\n",
    "## Limites inferiores y superiores\n",
    "\n",
    "lim_sup =[\n",
    "    63,  # Proteina\n",
    "    1500 # Calorias\n",
    "]\n",
    "\n",
    "lim_inf =[\n",
    "    200, # Carbohidratos\n",
    "    25,  # Azucares\n",
    "    50   # Grasas \n",
    "]\n",
    "\n",
    "## Definicion de restricciones\n",
    "def superior(): # Debe ser superior a\n",
    "    pass\n",
    "\n",
    "def inferior():\n",
    "    pass\n",
    "\n",
    "#solve con glpk"
   ]
  }
 ],
 "metadata": {
  "kernelspec": {
   "display_name": "Python 3",
   "language": "python",
   "name": "python3"
  },
  "language_info": {
   "codemirror_mode": {
    "name": "ipython",
    "version": 3
   },
   "file_extension": ".py",
   "mimetype": "text/x-python",
   "name": "python",
   "nbconvert_exporter": "python",
   "pygments_lexer": "ipython3",
   "version": "3.12.2"
  }
 },
 "nbformat": 4,
 "nbformat_minor": 2
}
