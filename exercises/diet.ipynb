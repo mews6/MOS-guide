{
 "cells": [
  {
   "cell_type": "markdown",
   "metadata": {},
   "source": []
  },
  {
   "cell_type": "code",
   "execution_count": 1,
   "metadata": {},
   "outputs": [
    {
     "name": "stdout",
     "output_type": "stream",
     "text": [
      "WARNING: DEPRECATED: The use of RealSet, IntegerSet, BinarySet and BooleanSet\n",
      "as Pyomo Set class generators is deprecated.  Please either use one of the\n",
      "pre-declared global Sets (e.g., Reals, NonNegativeReals, Integers,\n",
      "PositiveIntegers, Binary), or create a custom RangeSet.  (deprecated in 5.7.1)\n",
      "(called from /home/mews/Documents/repos/MOS-guide/.conda/lib/python3.11/site-\n",
      "packages/pyomo/core/base/var.py:846)\n"
     ]
    },
    {
     "ename": "ValueError",
     "evalue": "Generators are not allowed",
     "output_type": "error",
     "traceback": [
      "\u001b[0;31m---------------------------------------------------------------------------\u001b[0m",
      "\u001b[0;31mValueError\u001b[0m                                Traceback (most recent call last)",
      "Cell \u001b[0;32mIn[1], line 30\u001b[0m\n\u001b[1;32m     26\u001b[0m Model\u001b[38;5;241m.\u001b[39mx \u001b[38;5;241m=\u001b[39m Var(alimentos, domain\u001b[38;5;241m=\u001b[39mRealSet)\n\u001b[1;32m     28\u001b[0m \u001b[38;5;66;03m# Funcion objetivo\u001b[39;00m\n\u001b[0;32m---> 30\u001b[0m Model\u001b[38;5;241m.\u001b[39mobj \u001b[38;5;241m=\u001b[39m \u001b[43mObjective\u001b[49m\u001b[43m(\u001b[49m\u001b[43mexpr\u001b[49m\u001b[43m \u001b[49m\u001b[38;5;241;43m=\u001b[39;49m\u001b[43m \u001b[49m\u001b[43m(\u001b[49m\u001b[38;5;28;43msum\u001b[39;49m\u001b[43m(\u001b[49m\u001b[43mprecio\u001b[49m\u001b[43m[\u001b[49m\u001b[43mj\u001b[49m\u001b[43m]\u001b[49m\u001b[43m)\u001b[49m\u001b[43m \u001b[49m\u001b[38;5;28;43;01mfor\u001b[39;49;00m\u001b[43m \u001b[49m\u001b[43mj\u001b[49m\u001b[43m \u001b[49m\u001b[38;5;129;43;01min\u001b[39;49;00m\u001b[43m \u001b[49m\u001b[43malimentos\u001b[49m\u001b[43m)\u001b[49m\u001b[43m,\u001b[49m\u001b[43m \u001b[49m\u001b[43msense\u001b[49m\u001b[38;5;241;43m=\u001b[39;49m\u001b[43mminimize\u001b[49m\u001b[43m)\u001b[49m\n\u001b[1;32m     32\u001b[0m \u001b[38;5;66;03m# Restricciones\u001b[39;00m\n\u001b[1;32m     33\u001b[0m \n\u001b[1;32m     34\u001b[0m \u001b[38;5;66;03m## Limites inferiores y superiores\u001b[39;00m\n\u001b[1;32m     36\u001b[0m lim_sup \u001b[38;5;241m=\u001b[39m[\n\u001b[1;32m     37\u001b[0m     \u001b[38;5;241m63\u001b[39m,  \u001b[38;5;66;03m# Proteina\u001b[39;00m\n\u001b[1;32m     38\u001b[0m     \u001b[38;5;241m1500\u001b[39m \u001b[38;5;66;03m# Calorias\u001b[39;00m\n\u001b[1;32m     39\u001b[0m ]\n",
      "File \u001b[0;32m~/Documents/repos/MOS-guide/.conda/lib/python3.11/site-packages/pyomo/core/base/objective.py:357\u001b[0m, in \u001b[0;36mScalarObjective.__init__\u001b[0;34m(self, *args, **kwd)\u001b[0m\n\u001b[1;32m    355\u001b[0m \u001b[38;5;28;01mdef\u001b[39;00m \u001b[38;5;21m__init__\u001b[39m(\u001b[38;5;28mself\u001b[39m, \u001b[38;5;241m*\u001b[39margs, \u001b[38;5;241m*\u001b[39m\u001b[38;5;241m*\u001b[39mkwd):\n\u001b[1;32m    356\u001b[0m     ObjectiveData\u001b[38;5;241m.\u001b[39m\u001b[38;5;21m__init__\u001b[39m(\u001b[38;5;28mself\u001b[39m, expr\u001b[38;5;241m=\u001b[39m\u001b[38;5;28;01mNone\u001b[39;00m, component\u001b[38;5;241m=\u001b[39m\u001b[38;5;28mself\u001b[39m)\n\u001b[0;32m--> 357\u001b[0m     \u001b[43mObjective\u001b[49m\u001b[38;5;241;43m.\u001b[39;49m\u001b[38;5;21;43m__init__\u001b[39;49m\u001b[43m(\u001b[49m\u001b[38;5;28;43mself\u001b[39;49m\u001b[43m,\u001b[49m\u001b[43m \u001b[49m\u001b[38;5;241;43m*\u001b[39;49m\u001b[43margs\u001b[49m\u001b[43m,\u001b[49m\u001b[43m \u001b[49m\u001b[38;5;241;43m*\u001b[39;49m\u001b[38;5;241;43m*\u001b[39;49m\u001b[43mkwd\u001b[49m\u001b[43m)\u001b[49m\n\u001b[1;32m    358\u001b[0m     \u001b[38;5;28mself\u001b[39m\u001b[38;5;241m.\u001b[39m_index \u001b[38;5;241m=\u001b[39m UnindexedComponent_index\n",
      "File \u001b[0;32m~/Documents/repos/MOS-guide/.conda/lib/python3.11/site-packages/pyomo/core/base/objective.py:227\u001b[0m, in \u001b[0;36mObjective.__init__\u001b[0;34m(self, *args, **kwargs)\u001b[0m\n\u001b[1;32m    224\u001b[0m kwargs\u001b[38;5;241m.\u001b[39msetdefault(\u001b[38;5;124m'\u001b[39m\u001b[38;5;124mctype\u001b[39m\u001b[38;5;124m'\u001b[39m, Objective)\n\u001b[1;32m    225\u001b[0m ActiveIndexedComponent\u001b[38;5;241m.\u001b[39m\u001b[38;5;21m__init__\u001b[39m(\u001b[38;5;28mself\u001b[39m, \u001b[38;5;241m*\u001b[39margs, \u001b[38;5;241m*\u001b[39m\u001b[38;5;241m*\u001b[39mkwargs)\n\u001b[0;32m--> 227\u001b[0m \u001b[38;5;28mself\u001b[39m\u001b[38;5;241m.\u001b[39mrule \u001b[38;5;241m=\u001b[39m \u001b[43mInitializer\u001b[49m\u001b[43m(\u001b[49m\u001b[43m_init\u001b[49m\u001b[43m)\u001b[49m\n\u001b[1;32m    228\u001b[0m \u001b[38;5;28mself\u001b[39m\u001b[38;5;241m.\u001b[39m_init_sense \u001b[38;5;241m=\u001b[39m Initializer(_sense)\n",
      "File \u001b[0;32m~/Documents/repos/MOS-guide/.conda/lib/python3.11/site-packages/pyomo/core/base/initializer.py:194\u001b[0m, in \u001b[0;36mInitializer\u001b[0;34m(arg, allow_generators, treat_sequences_as_mappings, arg_not_specified, additional_args)\u001b[0m\n\u001b[1;32m    188\u001b[0m \u001b[38;5;28;01mif\u001b[39;00m inspect\u001b[38;5;241m.\u001b[39misgenerator(arg) \u001b[38;5;129;01mor\u001b[39;00m \u001b[38;5;28mhasattr\u001b[39m(arg, \u001b[38;5;124m'\u001b[39m\u001b[38;5;124mnext\u001b[39m\u001b[38;5;124m'\u001b[39m) \u001b[38;5;129;01mor\u001b[39;00m \u001b[38;5;28mhasattr\u001b[39m(arg, \u001b[38;5;124m'\u001b[39m\u001b[38;5;124m__next__\u001b[39m\u001b[38;5;124m'\u001b[39m):\n\u001b[1;32m    189\u001b[0m     \u001b[38;5;66;03m# This catches generators and iterators (like enumerate()), but\u001b[39;00m\n\u001b[1;32m    190\u001b[0m     \u001b[38;5;66;03m# skips \"reusable\" iterators like range() as well as Pyomo\u001b[39;00m\n\u001b[1;32m    191\u001b[0m     \u001b[38;5;66;03m# (finite) Set objects [they were both caught by the\u001b[39;00m\n\u001b[1;32m    192\u001b[0m     \u001b[38;5;66;03m# \"hasattr('__len__')\" above]\u001b[39;00m\n\u001b[1;32m    193\u001b[0m     \u001b[38;5;28;01mif\u001b[39;00m \u001b[38;5;129;01mnot\u001b[39;00m allow_generators:\n\u001b[0;32m--> 194\u001b[0m         \u001b[38;5;28;01mraise\u001b[39;00m \u001b[38;5;167;01mValueError\u001b[39;00m(\u001b[38;5;124m\"\u001b[39m\u001b[38;5;124mGenerators are not allowed\u001b[39m\u001b[38;5;124m\"\u001b[39m)\n\u001b[1;32m    195\u001b[0m     \u001b[38;5;66;03m# Deepcopying generators is problematic (e.g., it generates a\u001b[39;00m\n\u001b[1;32m    196\u001b[0m     \u001b[38;5;66;03m# segfault in pypy3 7.3.0).  We will immediately expand the\u001b[39;00m\n\u001b[1;32m    197\u001b[0m     \u001b[38;5;66;03m# generator into a tuple and then store it as a constant.\u001b[39;00m\n\u001b[1;32m    198\u001b[0m     \u001b[38;5;28;01mreturn\u001b[39;00m ConstantInitializer(\u001b[38;5;28mtuple\u001b[39m(arg))\n",
      "\u001b[0;31mValueError\u001b[0m: Generators are not allowed"
     ]
    }
   ],
   "source": [
    "from __future__ import division\n",
    "from pyomo.environ import *\n",
    "\n",
    "from pyomo.opt import SolverFactory\n",
    "\n",
    "'''\n",
    "# Definicion variables alimento\n",
    "\n",
    "c = carne\n",
    "a = arroz\n",
    "l = leche\n",
    "p = pan\n",
    "'''\n",
    "\n",
    "Model = ConcreteModel(name='dieta')\n",
    "\n",
    "alimentos = [\"c\",\"a\",\"l\",\"p\"]\n",
    "\n",
    "calorias = {\"c\":287,\"a\":204,\"l\":146,\"p\":245}\n",
    "proteinas = {\"c\":26,\"a\":4.2,\"l\":8,\"p\":6}\n",
    "azucar = {\"c\":0,\"a\":0.01,\"l\":13,\"p\":25}\n",
    "carbohidratos = {\"c\":0,\"a\":44.1,\"l\":11,\"p\":55}\n",
    "precio = {\"c\":3000,\"a\":1000,\"l\":600,\"p\":700}\n",
    "\n",
    "# Variable de Restriccion\n",
    "Model.x = Var(alimentos, domain=RealSet)\n",
    "\n",
    "# Funcion objetivo\n",
    "\n",
    "Model.obj = Objective(expr = (sum(precio[j]) for j in alimentos), sense=minimize)\n",
    "\n",
    "# Restricciones\n",
    "\n",
    "## Limites inferiores y superiores\n",
    "\n",
    "lim_sup =[\n",
    "    63,  # Proteina\n",
    "    1500 # Calorias\n",
    "]\n",
    "\n",
    "lim_inf =[\n",
    "    200, # Carbohidratos\n",
    "    25,  # Azucares\n",
    "    50   # Grasas \n",
    "]\n",
    "\n",
    "## Definicion de restricciones\n",
    "def superior(): # Debe ser superior a\n",
    "    pass\n",
    "\n",
    "def inferior(): # Debe ser inferior a\n",
    "    pass\n",
    "\n",
    "#solve con glpk"
   ]
  }
 ],
 "metadata": {
  "kernelspec": {
   "display_name": "Python 3",
   "language": "python",
   "name": "python3"
  },
  "language_info": {
   "codemirror_mode": {
    "name": "ipython",
    "version": 3
   },
   "file_extension": ".py",
   "mimetype": "text/x-python",
   "name": "python",
   "nbconvert_exporter": "python",
   "pygments_lexer": "ipython3",
   "version": "3.11.9"
  }
 },
 "nbformat": 4,
 "nbformat_minor": 2
}
